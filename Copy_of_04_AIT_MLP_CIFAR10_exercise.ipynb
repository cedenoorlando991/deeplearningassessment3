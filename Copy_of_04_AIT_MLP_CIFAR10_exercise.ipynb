{
  "nbformat": 4,
  "nbformat_minor": 0,
  "metadata": {
    "anaconda-cloud": {},
    "kernelspec": {
      "display_name": "Python 3",
      "language": "python",
      "name": "python3"
    },
    "language_info": {
      "codemirror_mode": {
        "name": "ipython",
        "version": 3
      },
      "file_extension": ".py",
      "mimetype": "text/x-python",
      "name": "python",
      "nbconvert_exporter": "python",
      "pygments_lexer": "ipython3",
      "version": "3.6.6"
    },
    "colab": {
      "provenance": []
    },
    "accelerator": "GPU"
  },
  "cells": [
    {
      "cell_type": "markdown",
      "metadata": {
        "id": "cW-EyI5Lxpqi"
      },
      "source": [
        "# Copyright\n",
        "\n",
        "<PRE>\n",
        "Copyright (c) 2023 Bálint Gyires-Tóth - All Rights Reserved\n",
        "You may use and modify this code for research and development purpuses.\n",
        "Using this code for educational purposes (self-paced or instructor led) without the permission of the author is prohibited.\n",
        "</PRE>"
      ]
    },
    {
      "cell_type": "markdown",
      "source": [
        "# Example of data exploration, modeling, regulartion and prediction\n",
        "Our exercise today involves loading a standard dataset using TensorFlow Keras API, exploring the data, building a simple neural network, and evaluating the effects of basic methods (activation functions, regularization, weight initialization, etc.). We then perform predictions on the test set and inspect the results. "
      ],
      "metadata": {
        "id": "3EX4cCa4WKJu"
      }
    },
    {
      "cell_type": "markdown",
      "source": [
        "# 1. Data\n",
        "The dataset we will use is the well-known CIFAR10 (Canadian Institute For Advanced Research). Explore the details on the Keras website first: https://keras.io/api/datasets/cifar10/\n",
        "\n",
        "After you explored the basic features of the data, let's load it into the memory and explore the shapes:"
      ],
      "metadata": {
        "id": "yY9fztIeWIKt"
      }
    },
    {
      "cell_type": "code",
      "source": [
        "from tensorflow.keras.datasets import cifar10\n",
        "from tensorflow.keras.utils import to_categorical\n",
        "import numpy as np"
      ],
      "metadata": {
        "id": "giRZKTjzX_7l"
      },
      "execution_count": 3,
      "outputs": []
    },
    {
      "cell_type": "code",
      "source": [],
      "metadata": {
        "id": "ECFFhr4ewB6l"
      },
      "execution_count": null,
      "outputs": []
    },
    {
      "cell_type": "code",
      "source": [
        "(X_train, Y_train), (X_test, Y_test) = cifar10.load_data()"
      ],
      "metadata": {
        "id": "bez7q0eiWQCK",
        "colab": {
          "base_uri": "https://localhost:8080/"
        },
        "outputId": "b7398239-5f2e-47e0-e0c8-7edc0bbf843f"
      },
      "execution_count": 4,
      "outputs": [
        {
          "output_type": "stream",
          "name": "stdout",
          "text": [
            "Downloading data from https://www.cs.toronto.edu/~kriz/cifar-10-python.tar.gz\n",
            "170498071/170498071 [==============================] - 6s 0us/step\n"
          ]
        }
      ]
    },
    {
      "cell_type": "code",
      "source": [
        "print(X_train.shape)\n",
        "print(X_test.shape)\n",
        "print(Y_train.shape)\n",
        "print(Y_test.shape)"
      ],
      "metadata": {
        "id": "2tJoRq5wXywi",
        "colab": {
          "base_uri": "https://localhost:8080/"
        },
        "outputId": "67bf4dc9-0ea8-46fa-b24d-a9166de76aeb"
      },
      "execution_count": null,
      "outputs": [
        {
          "output_type": "stream",
          "name": "stdout",
          "text": [
            "(50000, 32, 32, 3)\n",
            "(10000, 32, 32, 3)\n",
            "(50000, 1)\n",
            "(10000, 1)\n"
          ]
        }
      ]
    },
    {
      "cell_type": "markdown",
      "source": [
        "## 1.1. Exercise \n",
        "Display the first ten images of the training data. Hints:\n",
        "* Axis 0 refers to the separate images, e.g. X_train[0]\n",
        "* You can use the [Matplotlib Pyplot imshow function](https://matplotlib.org/stable/api/_as_gen/matplotlib.pyplot.imshow.html) for displaying the image. Just don't forget to import Plotly first!\n",
        "* A corresponding example, but you have to modify the code for your purpose: https://stackoverflow.com/questions/46615554/how-to-display-multiple-images-in-one-figure-correctly"
      ],
      "metadata": {
        "id": "zTCSGFyDlNvf"
      }
    },
    {
      "cell_type": "code",
      "source": [
        "import matplotlib.pyplot as plt\n",
        "for i in range(0,9):\n",
        "  plt.imshow(X_train[i])\n",
        "  plt.show()\n",
        "# <TODO>"
      ],
      "metadata": {
        "id": "hIQhHTppmBdO",
        "colab": {
          "base_uri": "https://localhost:8080/",
          "height": 1000
        },
        "outputId": "c80c4677-d11c-4783-9de2-4a6abcebea81"
      },
      "execution_count": 5,
      "outputs": [
        {
          "output_type": "display_data",
          "data": {
            "text/plain": [
              "<Figure size 432x288 with 1 Axes>"
            ],
            "image/png": "[encoded data removed]"
          },
          "metadata": {
            "needs_background": "light"
          }
        },
        {
          "output_type": "display_data",
          "data": {
            "text/plain": [
              "<Figure size 432x288 with 1 Axes>"
            ],
            "image/png": "[encoded data removed]"
          },
          "metadata": {
            "needs_background": "light"
          }
        },
        {
          "output_type": "display_data",
          "data": {
            "text/plain": [
              "<Figure size 432x288 with 1 Axes>"
            ],
            "image/png": "[encoded data removed]"
          },
          "metadata": {
            "needs_background": "light"
          }
        },
        {
          "output_type": "display_data",
          "data": {
            "text/plain": [
              "<Figure size 432x288 with 1 Axes>"
            ],
            "image/png": "[encoded data removed]"
          },
          "metadata": {
            "needs_background": "light"
          }
        },
        {
          "output_type": "display_data",
          "data": {
            "text/plain": [
              "<Figure size 432x288 with 1 Axes>"
            ],
            "image/png": "[encoded data removed]"
          },
          "metadata": {
            "needs_background": "light"
          }
        },
        {
          "output_type": "display_data",
          "data": {
            "text/plain": [
              "<Figure size 432x288 with 1 Axes>"
            ],
            "image/png": "[encoded data removed]"
          },
          "metadata": {
            "needs_background": "light"
          }
        },
        {
          "output_type": "display_data",
          "data": {
            "text/plain": [
              "<Figure size 432x288 with 1 Axes>"
            ],
            "image/png": "[encoded data removed]"
          },
          "metadata": {
            "needs_background": "light"
          }
        },
        {
          "output_type": "display_data",
          "data": {
            "text/plain": [
              "<Figure size 432x288 with 1 Axes>"
            ],
            "image/png": "[encoded data removed]"
          },
          "metadata": {
            "needs_background": "light"
          }
        },
        {
          "output_type": "display_data",
          "data": {
            "text/plain": [
              "<Figure size 432x288 with 1 Axes>"
            ],
            "image/png": "[encoded data removed]"
          },
          "metadata": {
            "needs_background": "light"
          }
        }
      ]
    },
    {
      "cell_type": "markdown",
      "source": [
        "Print the corresponding labels of the displayed images from the target variable (Y_train):"
      ],
      "metadata": {
        "id": "FAQkUWlmm-bc"
      }
    },
    {
      "cell_type": "code",
      "source": [
        "print(Y_train[:10])"
      ],
      "metadata": {
        "id": "AkOrWzghnJ78",
        "colab": {
          "base_uri": "https://localhost:8080/"
        },
        "outputId": "75c5398c-704f-4af9-89ea-777b3236e9b8"
      },
      "execution_count": null,
      "outputs": [
        {
          "output_type": "stream",
          "name": "stdout",
          "text": [
            "[[6]\n",
            " [9]\n",
            " [9]\n",
            " [4]\n",
            " [1]\n",
            " [1]\n",
            " [2]\n",
            " [7]\n",
            " [8]\n",
            " [3]]\n"
          ]
        }
      ]
    },
    {
      "cell_type": "markdown",
      "source": [
        "## 1.2. Exercise\n",
        "We will train a Multi-Layer Perceptron (MLP), which requires a 2 dimensional input: 0th axis refers to the datapoints (i.e. images), the 1th dimens to the input. As images are 3 dimensional (width, height, color channels), you have to reshape the images into vectors. We also call this flattening. \n",
        "\n",
        "In order to do so, calculate the size of the equivalent 1D vector of the image:"
      ],
      "metadata": {
        "id": "VX24g5FstsRU"
      }
    },
    {
      "cell_type": "code",
      "source": [
        "flattened_dim = 3072 \n",
        "X_train.shape"
      ],
      "metadata": {
        "id": "hdoMyxHzuXZG",
        "colab": {
          "base_uri": "https://localhost:8080/"
        },
        "outputId": "35981b51-5d27-4a1f-d8b0-2d9752546703"
      },
      "execution_count": 6,
      "outputs": [
        {
          "output_type": "execute_result",
          "data": {
            "text/plain": [
              "(50000, 32, 32, 3)"
            ]
          },
          "metadata": {},
          "execution_count": 6
        }
      ]
    },
    {
      "cell_type": "markdown",
      "source": [
        "After you calculated it, we can reshape the images, and covert the integer arrays into float arrays -- which are needed for the neural networks as input. Hint:\n",
        "* in the [reshape() function of Numpy](https://www.w3schools.com/python/numpy/numpy_array_reshape.asp) you can use -1 for one axis, to automatically calculate that value."
      ],
      "metadata": {
        "id": "WbqXJUSFubeC"
      }
    },
    {
      "cell_type": "code",
      "source": [
        "# reshape 3D tensors to 2D tensors\n",
        "X_train = X_train.reshape(-1,flattened_dim)\n",
        "X_test = X_test.reshape(-1,flattened_dim)\n",
        "\n",
        "# it is in int8 format, the neural network requires float32\n",
        "X_train = X_train.astype(np.float32)\n",
        "X_test = X_test.astype(np.float32)"
      ],
      "metadata": {
        "id": "vukOcBM0XzSj"
      },
      "execution_count": 7,
      "outputs": []
    },
    {
      "cell_type": "markdown",
      "source": [
        "## 1.3. Exercise\n",
        "As the next step, let's split the training data into training and validation data. 80% of the original training data should be the final training data, and 20% the validation.\n",
        "You should use Numpy indexing to select the first 80% of X_train as final X_train, and the last 20% as X_valid. Hints: \n",
        "* https://datascienceparichay.com/article/numpy-array-first-n-rows/\n",
        "* https://datascienceparichay.com/article/numpy-array-last-n-rows/"
      ],
      "metadata": {
        "id": "DO79AdIdvVfD"
      }
    },
    {
      "cell_type": "code",
      "source": [
        "train_ratio  = 0.8\n",
        "train_length = X_train.shape[0] # length of the training data\n",
        "train_split  = int(train_length * train_ratio)\n",
        "# where to split the training and validation data\n",
        "X_valid, Y_valid = X_train[train_split:], Y_train[train_split:]\n",
        "X_train, Y_train = X_train[:train_split], Y_train[:train_split]"
      ],
      "metadata": {
        "id": "mRwuWxxIxLgN"
      },
      "execution_count": 8,
      "outputs": []
    },
    {
      "cell_type": "markdown",
      "source": [
        "## 1.4. Exercise\n",
        "As the last step of input data preparation, the data should be standardized. Calculate the mean and variance of the training data (elementvise -- so for each value of the flattened image you should get a mean and variance for the training data along 0th axis). Hint: \n",
        "* https://stackoverflow.com/questions/70626231/how-to-calculate-mean-variance-standard-deviation-per-index-of-array"
      ],
      "metadata": {
        "id": "z05y_QWDxWER"
      }
    },
    {
      "cell_type": "code",
      "source": [
        "mean = np.mean(X_train,axis=0)\n",
        "std  = np.std(X_train,axis=0)"
      ],
      "metadata": {
        "id": "TSZbvWCBx8Ea"
      },
      "execution_count": 9,
      "outputs": []
    },
    {
      "cell_type": "markdown",
      "source": [
        "Next, use the resulting values to standardize the training, validation and test data by substracting the mean and dividing the result with the standard deviation."
      ],
      "metadata": {
        "id": "6WRHKkkjyN1S"
      }
    },
    {
      "cell_type": "code",
      "source": [
        "X_train = (X_train - mean) / std\n",
        "X_valid = (X_valid - mean) / std\n",
        "X_test  = (X_test - mean) / std"
      ],
      "metadata": {
        "id": "2ESLP1EIyB2J"
      },
      "execution_count": 10,
      "outputs": []
    },
    {
      "cell_type": "markdown",
      "source": [
        "## 1.5. Exercise\n",
        "And as the last step, convert the dense representation of the classes (i.e. 0,1,2,3...9) to one-hot encoding (0 = [1 0 0 0 0 0 0 0 0 0], 1 = [0 1 0 0 0 0 0 0 0 0] ... 9 = [0 0 0 0 0 0 0 0 0 1]). To do this, first, calculate the number of unique elements in the target training data. Hints:\n",
        "* use the [unique() function](https://numpy.org/doc/stable/reference/generated/numpy.unique.html) of Numpy to list the unique elements\n",
        "* you can count the number of elements in a list with the [len() function](https://www.w3schools.com/python/ref_func_len.asp)"
      ],
      "metadata": {
        "id": "ooHCnUin7r4o"
      }
    },
    {
      "cell_type": "code",
      "source": [
        "nb_classes =  len(np.unique(Y_train))"
      ],
      "metadata": {
        "id": "i0LAO9cs8KEE"
      },
      "execution_count": 11,
      "outputs": []
    },
    {
      "cell_type": "markdown",
      "source": [
        "Doublecheck, if the same number of classes exists in the validation and test target data:"
      ],
      "metadata": {
        "id": "BvM6XhGe8JU9"
      }
    },
    {
      "cell_type": "code",
      "source": [
        "print(\"Validation data has the same number of classes, as the training data:\", nb_classes == len(np.unique(Y_valid)))\n",
        "print(\"Test data has the same number of classes, as the training data:\", nb_classes == len(np.unique(Y_test)))"
      ],
      "metadata": {
        "id": "eZFNSsyx_Py2",
        "colab": {
          "base_uri": "https://localhost:8080/"
        },
        "outputId": "29fd76b6-23de-49f5-99bc-3ce1a52a36d5"
      },
      "execution_count": null,
      "outputs": [
        {
          "output_type": "stream",
          "name": "stdout",
          "text": [
            "Validation data has the same number of classes, as the training data: True\n",
            "Test data has the same number of classes, as the training data: True\n"
          ]
        }
      ]
    },
    {
      "cell_type": "markdown",
      "source": [
        "And convert the dense representation into one-hot encoding. Hint:\n",
        "* use the [to_categorical function](https://www.tensorflow.org/api_docs/python/tf/keras/utils/to_categorical) with the calculated nb_classes\n"
      ],
      "metadata": {
        "id": "mJM-iBmR8dLe"
      }
    },
    {
      "cell_type": "code",
      "source": [
        "Y_train = to_categorical(Y_train, num_classes=nb_classes)\n",
        "Y_valid = to_categorical(Y_valid, num_classes=nb_classes)\n",
        "Y_test  = to_categorical(Y_test, num_classes=nb_classes)"
      ],
      "metadata": {
        "id": "xwZ4OJ6I8lba"
      },
      "execution_count": 12,
      "outputs": []
    },
    {
      "cell_type": "markdown",
      "source": [
        "## Final check of data preparation\n",
        "Now, lets check the shapes and mean and standard deviation of the training, validation and test data."
      ],
      "metadata": {
        "id": "LshN2OSsv3TZ"
      }
    },
    {
      "cell_type": "code",
      "source": [
        "print(\"Shapes of the training, validation and test input data:\", X_train.shape, X_valid.shape, X_test.shape)\n",
        "print(\"Shapes of the training, validation and test output data:\", Y_train.shape, Y_valid.shape, Y_test.shape)\n",
        "print(\"Mean values of the training, validation and test input data:\", X_train.mean(), X_valid.mean(), X_test.mean())\n",
        "print(\"Standard deviation of the training, validation and test input data:\", X_train.std(), X_valid.std(), X_test.std())"
      ],
      "metadata": {
        "id": "O_jdJVcvX0vi",
        "colab": {
          "base_uri": "https://localhost:8080/"
        },
        "outputId": "562d0032-5d69-4f7b-8385-8644b02bb3f6"
      },
      "execution_count": null,
      "outputs": [
        {
          "output_type": "stream",
          "name": "stdout",
          "text": [
            "Shapes of the training, validation and test input data: (25600, 3072) (6400, 3072) (10000, 3072)\n",
            "Shapes of the training, validation and test output data: (25600, 10) (6400, 10) (10000, 10)\n",
            "Mean values of the training, validation and test input data: 1.8859283e-09 -0.0034694616 0.011806925\n",
            "Standard deviation of the training, validation and test input data: 1.0000013 1.0014856 0.9965314\n"
          ]
        }
      ]
    },
    {
      "cell_type": "markdown",
      "source": [
        "Don't worry, if the mean and standard deviation of the validation and test data are not exactly 0 and 1, but these might be very mear to it (e.g. 0.01 mean, 0.99 variance)."
      ],
      "metadata": {
        "id": "5GtAOOoezmZY"
      }
    },
    {
      "cell_type": "markdown",
      "metadata": {
        "id": "cJ14oyZExpqj"
      },
      "source": [
        "# 2. Training "
      ]
    },
    {
      "cell_type": "markdown",
      "metadata": {
        "id": "s4ZXYRMBxpql"
      },
      "source": [
        "Let us begin with a simple example of creating a small neural network without regularization and training it with actual data. The purpose of this is to provide you with an example as to how to proceed with the next exercise. "
      ]
    },
    {
      "cell_type": "code",
      "source": [
        "# imports \n",
        "import numpy as np\n",
        "import matplotlib.pyplot as plt\n",
        "from tensorflow.keras.models import Sequential\n",
        "from tensorflow.keras.layers import Dense, Embedding, Flatten, Dropout\n",
        "from tensorflow.keras.initializers import HeNormal\n",
        "from tensorflow.keras.initializers    import LecunUniform\n",
        "from tensorflow.keras.callbacks import EarlyStopping"
      ],
      "metadata": {
        "id": "6-8Q6ll7ZDgq"
      },
      "execution_count": 40,
      "outputs": []
    },
    {
      "cell_type": "code",
      "source": [
        "# model definition\n",
        "model = Sequential()\n",
        "model.add(Dense(128, activation='tanh', input_shape=(flattened_dim,)))\n",
        "model.add(Dense(128, activation='tanh'))\n",
        "model.add(Dense(nb_classes, activation='softmax'))\n",
        "\n",
        "# loss function and optimizer\n",
        "model.compile(loss='categorical_crossentropy', optimizer='adam', metrics=['accuracy'])"
      ],
      "metadata": {
        "id": "pke6w3CD8DHp"
      },
      "execution_count": 14,
      "outputs": []
    },
    {
      "cell_type": "code",
      "metadata": {
        "id": "CZbOR76QxprC",
        "colab": {
          "base_uri": "https://localhost:8080/"
        },
        "outputId": "de4fca8f-310e-4773-a2bc-9b1c896896f4"
      },
      "source": [
        "# training\n",
        "network_history = model.fit(X_train, Y_train, \n",
        "                            validation_data=(X_valid,Y_valid),\n",
        "                            batch_size=128,                             \n",
        "                            epochs=40, \n",
        "                            verbose=1)"
      ],
      "execution_count": 15,
      "outputs": [
        {
          "output_type": "stream",
          "name": "stdout",
          "text": [
            "Epoch 1/40\n",
            "313/313 [==============================] - 6s 6ms/step - loss: 1.8148 - accuracy: 0.3663 - val_loss: 1.7515 - val_accuracy: 0.3898\n",
            "Epoch 2/40\n",
            "313/313 [==============================] - 1s 4ms/step - loss: 1.6984 - accuracy: 0.4079 - val_loss: 1.7306 - val_accuracy: 0.3961\n",
            "Epoch 3/40\n",
            "313/313 [==============================] - 1s 5ms/step - loss: 1.6410 - accuracy: 0.4320 - val_loss: 1.7050 - val_accuracy: 0.4050\n",
            "Epoch 4/40\n",
            "313/313 [==============================] - 1s 5ms/step - loss: 1.6027 - accuracy: 0.4442 - val_loss: 1.6970 - val_accuracy: 0.4117\n",
            "Epoch 5/40\n",
            "313/313 [==============================] - 2s 6ms/step - loss: 1.5746 - accuracy: 0.4528 - val_loss: 1.6748 - val_accuracy: 0.4198\n",
            "Epoch 6/40\n",
            "313/313 [==============================] - 2s 7ms/step - loss: 1.5446 - accuracy: 0.4656 - val_loss: 1.6721 - val_accuracy: 0.4280\n",
            "Epoch 7/40\n",
            "313/313 [==============================] - 2s 5ms/step - loss: 1.5116 - accuracy: 0.4780 - val_loss: 1.6611 - val_accuracy: 0.4269\n",
            "Epoch 8/40\n",
            "313/313 [==============================] - 1s 5ms/step - loss: 1.4782 - accuracy: 0.4893 - val_loss: 1.6648 - val_accuracy: 0.4239\n",
            "Epoch 9/40\n",
            "313/313 [==============================] - 1s 5ms/step - loss: 1.4565 - accuracy: 0.4989 - val_loss: 1.6495 - val_accuracy: 0.4288\n",
            "Epoch 10/40\n",
            "313/313 [==============================] - 2s 6ms/step - loss: 1.4351 - accuracy: 0.5054 - val_loss: 1.6453 - val_accuracy: 0.4326\n",
            "Epoch 11/40\n",
            "313/313 [==============================] - 1s 5ms/step - loss: 1.4136 - accuracy: 0.5112 - val_loss: 1.6298 - val_accuracy: 0.4462\n",
            "Epoch 12/40\n",
            "313/313 [==============================] - 2s 5ms/step - loss: 1.3939 - accuracy: 0.5190 - val_loss: 1.6289 - val_accuracy: 0.4452\n",
            "Epoch 13/40\n",
            "313/313 [==============================] - 2s 5ms/step - loss: 1.3719 - accuracy: 0.5253 - val_loss: 1.6419 - val_accuracy: 0.4410\n",
            "Epoch 14/40\n",
            "313/313 [==============================] - 1s 5ms/step - loss: 1.3561 - accuracy: 0.5319 - val_loss: 1.6391 - val_accuracy: 0.4397\n",
            "Epoch 15/40\n",
            "313/313 [==============================] - 1s 5ms/step - loss: 1.3294 - accuracy: 0.5413 - val_loss: 1.6437 - val_accuracy: 0.4408\n",
            "Epoch 16/40\n",
            "313/313 [==============================] - 1s 5ms/step - loss: 1.3030 - accuracy: 0.5504 - val_loss: 1.6316 - val_accuracy: 0.4408\n",
            "Epoch 17/40\n",
            "313/313 [==============================] - 1s 4ms/step - loss: 1.2948 - accuracy: 0.5556 - val_loss: 1.6424 - val_accuracy: 0.4486\n",
            "Epoch 18/40\n",
            "313/313 [==============================] - 1s 4ms/step - loss: 1.2657 - accuracy: 0.5630 - val_loss: 1.6448 - val_accuracy: 0.4428\n",
            "Epoch 19/40\n",
            "313/313 [==============================] - 1s 5ms/step - loss: 1.2428 - accuracy: 0.5712 - val_loss: 1.6499 - val_accuracy: 0.4445\n",
            "Epoch 20/40\n",
            "313/313 [==============================] - 2s 5ms/step - loss: 1.2261 - accuracy: 0.5770 - val_loss: 1.6457 - val_accuracy: 0.4482\n",
            "Epoch 21/40\n",
            "313/313 [==============================] - 2s 6ms/step - loss: 1.2134 - accuracy: 0.5796 - val_loss: 1.6471 - val_accuracy: 0.4475\n",
            "Epoch 22/40\n",
            "313/313 [==============================] - 1s 5ms/step - loss: 1.1923 - accuracy: 0.5894 - val_loss: 1.6636 - val_accuracy: 0.4456\n",
            "Epoch 23/40\n",
            "313/313 [==============================] - 1s 4ms/step - loss: 1.1771 - accuracy: 0.5958 - val_loss: 1.6508 - val_accuracy: 0.4497\n",
            "Epoch 24/40\n",
            "313/313 [==============================] - 1s 5ms/step - loss: 1.1616 - accuracy: 0.5992 - val_loss: 1.6531 - val_accuracy: 0.4533\n",
            "Epoch 25/40\n",
            "313/313 [==============================] - 1s 4ms/step - loss: 1.1360 - accuracy: 0.6063 - val_loss: 1.6671 - val_accuracy: 0.4474\n",
            "Epoch 26/40\n",
            "313/313 [==============================] - 1s 4ms/step - loss: 1.1226 - accuracy: 0.6127 - val_loss: 1.6759 - val_accuracy: 0.4478\n",
            "Epoch 27/40\n",
            "313/313 [==============================] - 1s 4ms/step - loss: 1.1043 - accuracy: 0.6194 - val_loss: 1.6789 - val_accuracy: 0.4515\n",
            "Epoch 28/40\n",
            "313/313 [==============================] - 1s 5ms/step - loss: 1.0865 - accuracy: 0.6284 - val_loss: 1.6768 - val_accuracy: 0.4525\n",
            "Epoch 29/40\n",
            "313/313 [==============================] - 2s 6ms/step - loss: 1.0633 - accuracy: 0.6351 - val_loss: 1.6976 - val_accuracy: 0.4483\n",
            "Epoch 30/40\n",
            "313/313 [==============================] - 2s 5ms/step - loss: 1.0488 - accuracy: 0.6395 - val_loss: 1.7150 - val_accuracy: 0.4462\n",
            "Epoch 31/40\n",
            "313/313 [==============================] - 1s 4ms/step - loss: 1.0293 - accuracy: 0.6494 - val_loss: 1.7238 - val_accuracy: 0.4440\n",
            "Epoch 32/40\n",
            "313/313 [==============================] - 1s 4ms/step - loss: 1.0215 - accuracy: 0.6492 - val_loss: 1.7368 - val_accuracy: 0.4490\n",
            "Epoch 33/40\n",
            "313/313 [==============================] - 1s 5ms/step - loss: 1.0014 - accuracy: 0.6569 - val_loss: 1.7432 - val_accuracy: 0.4448\n",
            "Epoch 34/40\n",
            "313/313 [==============================] - 1s 4ms/step - loss: 0.9844 - accuracy: 0.6612 - val_loss: 1.7454 - val_accuracy: 0.4506\n",
            "Epoch 35/40\n",
            "313/313 [==============================] - 1s 4ms/step - loss: 0.9726 - accuracy: 0.6656 - val_loss: 1.7654 - val_accuracy: 0.4456\n",
            "Epoch 36/40\n",
            "313/313 [==============================] - 1s 5ms/step - loss: 0.9549 - accuracy: 0.6732 - val_loss: 1.7724 - val_accuracy: 0.4504\n",
            "Epoch 37/40\n",
            "313/313 [==============================] - 2s 6ms/step - loss: 0.9497 - accuracy: 0.6730 - val_loss: 1.7997 - val_accuracy: 0.4404\n",
            "Epoch 38/40\n",
            "313/313 [==============================] - 2s 6ms/step - loss: 0.9292 - accuracy: 0.6823 - val_loss: 1.8182 - val_accuracy: 0.4458\n",
            "Epoch 39/40\n",
            "313/313 [==============================] - 1s 5ms/step - loss: 0.9243 - accuracy: 0.6853 - val_loss: 1.8142 - val_accuracy: 0.4425\n",
            "Epoch 40/40\n",
            "313/313 [==============================] - 1s 5ms/step - loss: 0.9051 - accuracy: 0.6912 - val_loss: 1.8139 - val_accuracy: 0.4473\n"
          ]
        }
      ]
    },
    {
      "cell_type": "markdown",
      "metadata": {
        "id": "uFqhzV85xprJ"
      },
      "source": [
        "Let's plot the training and validation loss and accuracy curves:"
      ]
    },
    {
      "cell_type": "code",
      "metadata": {
        "id": "BYmXGkLCxprK",
        "colab": {
          "base_uri": "https://localhost:8080/",
          "height": 542
        },
        "outputId": "9d56ee45-1816-4218-fb13-b867d585815d"
      },
      "source": [
        "def plot_history(network_history):\n",
        "    plt.figure()\n",
        "    plt.xlabel('Epochs')\n",
        "    plt.ylabel('Loss')\n",
        "    plt.plot(network_history.history['loss'])\n",
        "    plt.plot(network_history.history['val_loss'])\n",
        "    plt.legend(['Training', 'Validation'])\n",
        "\n",
        "    plt.figure()\n",
        "    plt.xlabel('Epochs')\n",
        "    plt.ylabel('Accuracy')\n",
        "    plt.plot(network_history.history['accuracy'])\n",
        "    plt.plot(network_history.history['val_accuracy'])\n",
        "    plt.legend(['Training', 'Validation'], loc='lower right')\n",
        "    plt.show()\n",
        "\n",
        "plot_history(network_history)"
      ],
      "execution_count": null,
      "outputs": [
        {
          "output_type": "display_data",
          "data": {
            "text/plain": [
              "<Figure size 432x288 with 1 Axes>"
            ],
            "image/png": "[encoded data removed]"
          },
          "metadata": {
            "needs_background": "light"
          }
        },
        {
          "output_type": "display_data",
          "data": {
            "text/plain": [
              "<Figure size 432x288 with 1 Axes>"
            ],
            "image/png": "[encoded data removed]"
          },
          "metadata": {
            "needs_background": "light"
          }
        }
      ]
    },
    {
      "cell_type": "markdown",
      "source": [
        "What do you think? Does it overfit? "
      ],
      "metadata": {
        "id": "tgG7QeXF-dx6"
      }
    },
    {
      "cell_type": "markdown",
      "metadata": {
        "id": "_Q9rIeBBxprO"
      },
      "source": [
        "# Inspecting the model"
      ]
    },
    {
      "cell_type": "code",
      "metadata": {
        "id": "6r2AmmoMxprP",
        "colab": {
          "base_uri": "https://localhost:8080/"
        },
        "outputId": "7f3e2d78-dfb6-42e1-d37f-279066f357bb"
      },
      "source": [
        "model.summary()"
      ],
      "execution_count": null,
      "outputs": [
        {
          "output_type": "stream",
          "name": "stdout",
          "text": [
            "Model: \"sequential\"\n",
            "_________________________________________________________________\n",
            " Layer (type)                Output Shape              Param #   \n",
            "=================================================================\n",
            " dense (Dense)               (None, 128)               393344    \n",
            "                                                                 \n",
            " dense_1 (Dense)             (None, 128)               16512     \n",
            "                                                                 \n",
            " dense_2 (Dense)             (None, 10)                1290      \n",
            "                                                                 \n",
            "=================================================================\n",
            "Total params: 411,146\n",
            "Trainable params: 411,146\n",
            "Non-trainable params: 0\n",
            "_________________________________________________________________\n"
          ]
        }
      ]
    },
    {
      "cell_type": "code",
      "metadata": {
        "id": "D3-bVDVuxprS",
        "colab": {
          "base_uri": "https://localhost:8080/"
        },
        "outputId": "9e19a9fe-250f-4882-d925-5feace20dc02"
      },
      "source": [
        "print('Input: ', model.input)"
      ],
      "execution_count": null,
      "outputs": [
        {
          "output_type": "stream",
          "name": "stdout",
          "text": [
            "Input:  KerasTensor(type_spec=TensorSpec(shape=(None, 3072), dtype=tf.float32, name='dense_input'), name='dense_input', description=\"created by layer 'dense_input'\")\n"
          ]
        }
      ]
    },
    {
      "cell_type": "code",
      "metadata": {
        "id": "Da2OJ3DmxprX",
        "colab": {
          "base_uri": "https://localhost:8080/"
        },
        "outputId": "47978ac9-2560-4ccd-9209-926b98aa6589"
      },
      "source": [
        "print('Layers:\\n')\n",
        "for layer in model.layers:\n",
        "    print(\"Layer's name: \", layer.name, ', trainable: ', layer.trainable)\n",
        "    print(layer.get_config(),'\\n')"
      ],
      "execution_count": null,
      "outputs": [
        {
          "output_type": "stream",
          "name": "stdout",
          "text": [
            "Layers:\n",
            "\n",
            "Layer's name:  dense , trainable:  True\n",
            "{'name': 'dense', 'trainable': True, 'dtype': 'float32', 'batch_input_shape': (None, 3072), 'units': 128, 'activation': 'tanh', 'use_bias': True, 'kernel_initializer': {'class_name': 'GlorotUniform', 'config': {'seed': None}}, 'bias_initializer': {'class_name': 'Zeros', 'config': {}}, 'kernel_regularizer': None, 'bias_regularizer': None, 'activity_regularizer': None, 'kernel_constraint': None, 'bias_constraint': None} \n",
            "\n",
            "Layer's name:  dense_1 , trainable:  True\n",
            "{'name': 'dense_1', 'trainable': True, 'dtype': 'float32', 'units': 128, 'activation': 'tanh', 'use_bias': True, 'kernel_initializer': {'class_name': 'GlorotUniform', 'config': {'seed': None}}, 'bias_initializer': {'class_name': 'Zeros', 'config': {}}, 'kernel_regularizer': None, 'bias_regularizer': None, 'activity_regularizer': None, 'kernel_constraint': None, 'bias_constraint': None} \n",
            "\n",
            "Layer's name:  dense_2 , trainable:  True\n",
            "{'name': 'dense_2', 'trainable': True, 'dtype': 'float32', 'units': 10, 'activation': 'softmax', 'use_bias': True, 'kernel_initializer': {'class_name': 'GlorotUniform', 'config': {'seed': None}}, 'bias_initializer': {'class_name': 'Zeros', 'config': {}}, 'kernel_regularizer': None, 'bias_regularizer': None, 'activity_regularizer': None, 'kernel_constraint': None, 'bias_constraint': None} \n",
            "\n"
          ]
        }
      ]
    },
    {
      "cell_type": "code",
      "metadata": {
        "id": "AtVX3M3lxprc",
        "colab": {
          "base_uri": "https://localhost:8080/"
        },
        "outputId": "2287f7c5-4ab3-4f3e-ef9d-e823000f5172"
      },
      "source": [
        "print('Output: ', model.output)"
      ],
      "execution_count": null,
      "outputs": [
        {
          "output_type": "stream",
          "name": "stdout",
          "text": [
            "Output:  KerasTensor(type_spec=TensorSpec(shape=(None, 10), dtype=tf.float32, name=None), name='dense_2/Softmax:0', description=\"created by layer 'dense_2'\")\n"
          ]
        }
      ]
    },
    {
      "cell_type": "markdown",
      "source": [
        "## 2.1. Exercise\n",
        "Introduce [early stopping](https://www.tensorflow.org/api_docs/python/tf/keras/callbacks/EarlyStopping) and [dropout](https://www.tensorflow.org/api_docs/python/tf/keras/layers/Dropout) with a rate between 0.1..0.5. Tips:\n",
        "\n",
        "* Insert the dropout layer between the two Dense layers. \n",
        "* Set the patience of early stopping to 5.\n",
        "* Set the number of epochs to a very high number.\n",
        "* Don't forget to restore best weights after early stopping. \n",
        "* And also set early stopping to monitor validation accuracy (the default value is validation loss -- which is categorical crossentropy now).\n",
        "\n",
        "Compile and train the model. Attempt to increase the validation accuracy as much as possible by making changes to the dropout rate. Inspect the effects of the modifications."
      ],
      "metadata": {
        "id": "E-hHfs9qA_iO"
      }
    },
    {
      "cell_type": "code",
      "source": [
        "\n",
        "es = EarlyStopping(monitor='val_accuracy',patience = 5,restore_best_weights=True)"
      ],
      "metadata": {
        "id": "NwXrPzOgEBG-"
      },
      "execution_count": 20,
      "outputs": []
    },
    {
      "cell_type": "code",
      "source": [
        "# model definition with dropout\n",
        "model = Sequential()\n",
        "model.add(Dense(128, activation='tanh', input_shape=(flattened_dim,)))\n",
        "model.add(Dropout(.5,input_shape=(flattened_dim,)))\n",
        "model.add(Dense(128, activation='tanh'))\n",
        "model.add(Dense(nb_classes, activation='softmax'))\n",
        "\n",
        "# loss function and optimizer\n",
        "model.compile(loss='categorical_crossentropy', optimizer='adam', metrics=['accuracy'])"
      ],
      "metadata": {
        "id": "7hZEGzj8GFwP"
      },
      "execution_count": 23,
      "outputs": []
    },
    {
      "cell_type": "code",
      "source": [
        "# training with early stopping\n",
        "network_history = model.fit(X_train, Y_train, \n",
        "                            validation_data=(X_valid,Y_valid),\n",
        "                            batch_size=128,                             \n",
        "                            epochs=100, \n",
        "                            verbose=1, \n",
        "                            callbacks=[es])"
      ],
      "metadata": {
        "id": "GCG54R-vGGWj",
        "colab": {
          "base_uri": "https://localhost:8080/"
        },
        "outputId": "0f06b8c0-a399-4afe-a689-d5c8118b5303"
      },
      "execution_count": 24,
      "outputs": [
        {
          "output_type": "stream",
          "name": "stdout",
          "text": [
            "Epoch 1/100\n",
            "313/313 [==============================] - 4s 6ms/step - loss: 1.9554 - accuracy: 0.3083 - val_loss: 1.8055 - val_accuracy: 0.3631\n",
            "Epoch 2/100\n",
            "313/313 [==============================] - 1s 4ms/step - loss: 1.8549 - accuracy: 0.3430 - val_loss: 1.7645 - val_accuracy: 0.3859\n",
            "Epoch 3/100\n",
            "313/313 [==============================] - 1s 4ms/step - loss: 1.8134 - accuracy: 0.3580 - val_loss: 1.7490 - val_accuracy: 0.3949\n",
            "Epoch 4/100\n",
            "313/313 [==============================] - 1s 4ms/step - loss: 1.7815 - accuracy: 0.3724 - val_loss: 1.7250 - val_accuracy: 0.4021\n",
            "Epoch 5/100\n",
            "313/313 [==============================] - 1s 5ms/step - loss: 1.7584 - accuracy: 0.3817 - val_loss: 1.7082 - val_accuracy: 0.4064\n",
            "Epoch 6/100\n",
            "313/313 [==============================] - 1s 4ms/step - loss: 1.7447 - accuracy: 0.3854 - val_loss: 1.7014 - val_accuracy: 0.4108\n",
            "Epoch 7/100\n",
            "313/313 [==============================] - 1s 5ms/step - loss: 1.7296 - accuracy: 0.3950 - val_loss: 1.6755 - val_accuracy: 0.4207\n",
            "Epoch 8/100\n",
            "313/313 [==============================] - 2s 6ms/step - loss: 1.7095 - accuracy: 0.4003 - val_loss: 1.6688 - val_accuracy: 0.4190\n",
            "Epoch 9/100\n",
            "313/313 [==============================] - 1s 5ms/step - loss: 1.6964 - accuracy: 0.4049 - val_loss: 1.6577 - val_accuracy: 0.4229\n",
            "Epoch 10/100\n",
            "313/313 [==============================] - 1s 5ms/step - loss: 1.6909 - accuracy: 0.4047 - val_loss: 1.6528 - val_accuracy: 0.4254\n",
            "Epoch 11/100\n",
            "313/313 [==============================] - 1s 4ms/step - loss: 1.6792 - accuracy: 0.4119 - val_loss: 1.6420 - val_accuracy: 0.4259\n",
            "Epoch 12/100\n",
            "313/313 [==============================] - 1s 5ms/step - loss: 1.6671 - accuracy: 0.4167 - val_loss: 1.6344 - val_accuracy: 0.4283\n",
            "Epoch 13/100\n",
            "313/313 [==============================] - 1s 4ms/step - loss: 1.6558 - accuracy: 0.4163 - val_loss: 1.6480 - val_accuracy: 0.4246\n",
            "Epoch 14/100\n",
            "313/313 [==============================] - 1s 4ms/step - loss: 1.6486 - accuracy: 0.4207 - val_loss: 1.6218 - val_accuracy: 0.4329\n",
            "Epoch 15/100\n",
            "313/313 [==============================] - 1s 4ms/step - loss: 1.6353 - accuracy: 0.4245 - val_loss: 1.6199 - val_accuracy: 0.4326\n",
            "Epoch 16/100\n",
            "313/313 [==============================] - 2s 6ms/step - loss: 1.6270 - accuracy: 0.4272 - val_loss: 1.6181 - val_accuracy: 0.4345\n",
            "Epoch 17/100\n",
            "313/313 [==============================] - 2s 5ms/step - loss: 1.6197 - accuracy: 0.4296 - val_loss: 1.6014 - val_accuracy: 0.4408\n",
            "Epoch 18/100\n",
            "313/313 [==============================] - 1s 4ms/step - loss: 1.6122 - accuracy: 0.4304 - val_loss: 1.5938 - val_accuracy: 0.4395\n",
            "Epoch 19/100\n",
            "313/313 [==============================] - 1s 5ms/step - loss: 1.6043 - accuracy: 0.4319 - val_loss: 1.5900 - val_accuracy: 0.4460\n",
            "Epoch 20/100\n",
            "313/313 [==============================] - 1s 5ms/step - loss: 1.6001 - accuracy: 0.4316 - val_loss: 1.5833 - val_accuracy: 0.4411\n",
            "Epoch 21/100\n",
            "313/313 [==============================] - 2s 5ms/step - loss: 1.5961 - accuracy: 0.4353 - val_loss: 1.5751 - val_accuracy: 0.4463\n",
            "Epoch 22/100\n",
            "313/313 [==============================] - 1s 4ms/step - loss: 1.5858 - accuracy: 0.4386 - val_loss: 1.5717 - val_accuracy: 0.4453\n",
            "Epoch 23/100\n",
            "313/313 [==============================] - 1s 4ms/step - loss: 1.5827 - accuracy: 0.4409 - val_loss: 1.5684 - val_accuracy: 0.4469\n",
            "Epoch 24/100\n",
            "313/313 [==============================] - 2s 5ms/step - loss: 1.5775 - accuracy: 0.4416 - val_loss: 1.5588 - val_accuracy: 0.4527\n",
            "Epoch 25/100\n",
            "313/313 [==============================] - 2s 6ms/step - loss: 1.5685 - accuracy: 0.4459 - val_loss: 1.5579 - val_accuracy: 0.4515\n",
            "Epoch 26/100\n",
            "313/313 [==============================] - 2s 5ms/step - loss: 1.5653 - accuracy: 0.4496 - val_loss: 1.5523 - val_accuracy: 0.4543\n",
            "Epoch 27/100\n",
            "313/313 [==============================] - 1s 4ms/step - loss: 1.5595 - accuracy: 0.4488 - val_loss: 1.5481 - val_accuracy: 0.4512\n",
            "Epoch 28/100\n",
            "313/313 [==============================] - 1s 5ms/step - loss: 1.5575 - accuracy: 0.4484 - val_loss: 1.5529 - val_accuracy: 0.4535\n",
            "Epoch 29/100\n",
            "313/313 [==============================] - 2s 5ms/step - loss: 1.5528 - accuracy: 0.4521 - val_loss: 1.5368 - val_accuracy: 0.4609\n",
            "Epoch 30/100\n",
            "313/313 [==============================] - 1s 4ms/step - loss: 1.5511 - accuracy: 0.4508 - val_loss: 1.5322 - val_accuracy: 0.4596\n",
            "Epoch 31/100\n",
            "313/313 [==============================] - 1s 4ms/step - loss: 1.5449 - accuracy: 0.4516 - val_loss: 1.5316 - val_accuracy: 0.4613\n",
            "Epoch 32/100\n",
            "313/313 [==============================] - 1s 5ms/step - loss: 1.5428 - accuracy: 0.4558 - val_loss: 1.5331 - val_accuracy: 0.4593\n",
            "Epoch 33/100\n",
            "313/313 [==============================] - 2s 6ms/step - loss: 1.5402 - accuracy: 0.4543 - val_loss: 1.5231 - val_accuracy: 0.4635\n",
            "Epoch 34/100\n",
            "313/313 [==============================] - 1s 5ms/step - loss: 1.5357 - accuracy: 0.4575 - val_loss: 1.5273 - val_accuracy: 0.4644\n",
            "Epoch 35/100\n",
            "313/313 [==============================] - 1s 4ms/step - loss: 1.5326 - accuracy: 0.4579 - val_loss: 1.5242 - val_accuracy: 0.4687\n",
            "Epoch 36/100\n",
            "313/313 [==============================] - 2s 5ms/step - loss: 1.5292 - accuracy: 0.4581 - val_loss: 1.5180 - val_accuracy: 0.4643\n",
            "Epoch 37/100\n",
            "313/313 [==============================] - 1s 4ms/step - loss: 1.5202 - accuracy: 0.4626 - val_loss: 1.5207 - val_accuracy: 0.4642\n",
            "Epoch 38/100\n",
            "313/313 [==============================] - 2s 5ms/step - loss: 1.5291 - accuracy: 0.4578 - val_loss: 1.5145 - val_accuracy: 0.4687\n",
            "Epoch 39/100\n",
            "313/313 [==============================] - 1s 5ms/step - loss: 1.5237 - accuracy: 0.4598 - val_loss: 1.5105 - val_accuracy: 0.4716\n",
            "Epoch 40/100\n",
            "313/313 [==============================] - 1s 5ms/step - loss: 1.5189 - accuracy: 0.4627 - val_loss: 1.5207 - val_accuracy: 0.4636\n",
            "Epoch 41/100\n",
            "313/313 [==============================] - 2s 6ms/step - loss: 1.5068 - accuracy: 0.4651 - val_loss: 1.5125 - val_accuracy: 0.4672\n",
            "Epoch 42/100\n",
            "313/313 [==============================] - 2s 5ms/step - loss: 1.5067 - accuracy: 0.4684 - val_loss: 1.5070 - val_accuracy: 0.4709\n",
            "Epoch 43/100\n",
            "313/313 [==============================] - 1s 5ms/step - loss: 1.5080 - accuracy: 0.4651 - val_loss: 1.5158 - val_accuracy: 0.4688\n",
            "Epoch 44/100\n",
            "313/313 [==============================] - 1s 5ms/step - loss: 1.5039 - accuracy: 0.4688 - val_loss: 1.5081 - val_accuracy: 0.4654\n"
          ]
        }
      ]
    },
    {
      "cell_type": "markdown",
      "source": [
        "## 2.2 Exercise\n",
        "Change the [activation function of the dense layers (except the last one)](https://www.tensorflow.org/api_docs/python/tf/keras/layers/Dense) to rectified linear unit (ReLU) and the [weight initialization](https://www.tensorflow.org/api_docs/python/tf/keras/initializers) to the theoretically best one. Use the original model's code.\n",
        "\n",
        "Compile and train the model. Inspect the effects of the modifications."
      ],
      "metadata": {
        "id": "zQCDM1o1BBtF"
      }
    },
    {
      "cell_type": "code",
      "source": [
        "# model definition with relu\n",
        "model = Sequential()\n",
        "model.add(Dense(128, activation='relu', kernel_initializer=HeNormal(), input_shape=(flattened_dim,)))\n",
        "model.add(Dense(128, activation='relu', kernel_initializer=HeNormal()))\n",
        "model.add(Dense(nb_classes, activation='softmax'))\n",
        "\n",
        "# loss function and optimizer\n",
        "model.compile(loss='categorical_crossentropy', optimizer='adam', metrics=['accuracy'])"
      ],
      "metadata": {
        "id": "YjHAAh-wGu9O"
      },
      "execution_count": 26,
      "outputs": []
    },
    {
      "cell_type": "code",
      "source": [
        "# training\n",
        "network_history = model.fit(X_train, Y_train, \n",
        "                            validation_data=(X_valid,Y_valid),\n",
        "                            batch_size=128,                             \n",
        "                            epochs=40, \n",
        "                            verbose=1)"
      ],
      "metadata": {
        "id": "rarwKM1wGxMz",
        "colab": {
          "base_uri": "https://localhost:8080/"
        },
        "outputId": "e2a58626-451e-487e-ca72-ef0b578dca94"
      },
      "execution_count": 27,
      "outputs": [
        {
          "output_type": "stream",
          "name": "stdout",
          "text": [
            "Epoch 1/40\n",
            "313/313 [==============================] - 3s 6ms/step - loss: 1.8406 - accuracy: 0.3749 - val_loss: 1.6835 - val_accuracy: 0.4113\n",
            "Epoch 2/40\n",
            "313/313 [==============================] - 1s 4ms/step - loss: 1.5427 - accuracy: 0.4611 - val_loss: 1.5983 - val_accuracy: 0.4440\n",
            "Epoch 3/40\n",
            "313/313 [==============================] - 1s 5ms/step - loss: 1.4216 - accuracy: 0.5035 - val_loss: 1.5491 - val_accuracy: 0.4634\n",
            "Epoch 4/40\n",
            "313/313 [==============================] - 1s 5ms/step - loss: 1.3330 - accuracy: 0.5333 - val_loss: 1.5189 - val_accuracy: 0.4769\n",
            "Epoch 5/40\n",
            "313/313 [==============================] - 2s 6ms/step - loss: 1.2594 - accuracy: 0.5580 - val_loss: 1.5222 - val_accuracy: 0.4739\n",
            "Epoch 6/40\n",
            "313/313 [==============================] - 1s 5ms/step - loss: 1.2040 - accuracy: 0.5796 - val_loss: 1.5190 - val_accuracy: 0.4837\n",
            "Epoch 7/40\n",
            "313/313 [==============================] - 1s 5ms/step - loss: 1.1543 - accuracy: 0.5958 - val_loss: 1.5215 - val_accuracy: 0.4916\n",
            "Epoch 8/40\n",
            "313/313 [==============================] - 1s 4ms/step - loss: 1.0991 - accuracy: 0.6159 - val_loss: 1.5304 - val_accuracy: 0.4868\n",
            "Epoch 9/40\n",
            "313/313 [==============================] - 1s 4ms/step - loss: 1.0469 - accuracy: 0.6308 - val_loss: 1.5659 - val_accuracy: 0.4934\n",
            "Epoch 10/40\n",
            "313/313 [==============================] - 1s 4ms/step - loss: 1.0017 - accuracy: 0.6471 - val_loss: 1.5793 - val_accuracy: 0.4932\n",
            "Epoch 11/40\n",
            "313/313 [==============================] - 1s 5ms/step - loss: 0.9707 - accuracy: 0.6594 - val_loss: 1.6006 - val_accuracy: 0.4962\n",
            "Epoch 12/40\n",
            "313/313 [==============================] - 1s 4ms/step - loss: 0.9213 - accuracy: 0.6775 - val_loss: 1.6358 - val_accuracy: 0.4961\n",
            "Epoch 13/40\n",
            "313/313 [==============================] - 2s 6ms/step - loss: 0.8826 - accuracy: 0.6885 - val_loss: 1.6588 - val_accuracy: 0.4997\n",
            "Epoch 14/40\n",
            "313/313 [==============================] - 2s 5ms/step - loss: 0.8491 - accuracy: 0.7024 - val_loss: 1.7106 - val_accuracy: 0.4944\n",
            "Epoch 15/40\n",
            "313/313 [==============================] - 1s 4ms/step - loss: 0.8170 - accuracy: 0.7125 - val_loss: 1.7583 - val_accuracy: 0.4915\n",
            "Epoch 16/40\n",
            "313/313 [==============================] - 1s 5ms/step - loss: 0.7747 - accuracy: 0.7261 - val_loss: 1.7657 - val_accuracy: 0.4952\n",
            "Epoch 17/40\n",
            "313/313 [==============================] - 1s 5ms/step - loss: 0.7439 - accuracy: 0.7400 - val_loss: 1.7942 - val_accuracy: 0.4920\n",
            "Epoch 18/40\n",
            "313/313 [==============================] - 2s 6ms/step - loss: 0.7078 - accuracy: 0.7487 - val_loss: 1.8782 - val_accuracy: 0.4961\n",
            "Epoch 19/40\n",
            "313/313 [==============================] - 2s 5ms/step - loss: 0.6876 - accuracy: 0.7579 - val_loss: 1.9050 - val_accuracy: 0.4880\n",
            "Epoch 20/40\n",
            "313/313 [==============================] - 1s 4ms/step - loss: 0.6533 - accuracy: 0.7705 - val_loss: 1.9553 - val_accuracy: 0.4902\n",
            "Epoch 21/40\n",
            "313/313 [==============================] - 2s 6ms/step - loss: 0.6220 - accuracy: 0.7814 - val_loss: 2.0034 - val_accuracy: 0.4919\n",
            "Epoch 22/40\n",
            "313/313 [==============================] - 2s 5ms/step - loss: 0.6083 - accuracy: 0.7843 - val_loss: 2.0917 - val_accuracy: 0.4913\n",
            "Epoch 23/40\n",
            "313/313 [==============================] - 1s 4ms/step - loss: 0.5830 - accuracy: 0.7957 - val_loss: 2.0809 - val_accuracy: 0.4960\n",
            "Epoch 24/40\n",
            "313/313 [==============================] - 1s 5ms/step - loss: 0.5526 - accuracy: 0.8067 - val_loss: 2.1871 - val_accuracy: 0.4884\n",
            "Epoch 25/40\n",
            "313/313 [==============================] - 1s 5ms/step - loss: 0.5260 - accuracy: 0.8157 - val_loss: 2.2494 - val_accuracy: 0.4801\n",
            "Epoch 26/40\n",
            "313/313 [==============================] - 1s 5ms/step - loss: 0.5175 - accuracy: 0.8181 - val_loss: 2.2838 - val_accuracy: 0.4896\n",
            "Epoch 27/40\n",
            "313/313 [==============================] - 1s 4ms/step - loss: 0.4908 - accuracy: 0.8262 - val_loss: 2.3754 - val_accuracy: 0.4864\n",
            "Epoch 28/40\n",
            "313/313 [==============================] - 1s 4ms/step - loss: 0.4821 - accuracy: 0.8326 - val_loss: 2.4257 - val_accuracy: 0.4885\n",
            "Epoch 29/40\n",
            "313/313 [==============================] - 2s 5ms/step - loss: 0.4458 - accuracy: 0.8443 - val_loss: 2.4466 - val_accuracy: 0.4867\n",
            "Epoch 30/40\n",
            "313/313 [==============================] - 2s 6ms/step - loss: 0.4360 - accuracy: 0.8480 - val_loss: 2.5607 - val_accuracy: 0.4810\n",
            "Epoch 31/40\n",
            "313/313 [==============================] - 1s 5ms/step - loss: 0.4277 - accuracy: 0.8490 - val_loss: 2.6085 - val_accuracy: 0.4793\n",
            "Epoch 32/40\n",
            "313/313 [==============================] - 1s 5ms/step - loss: 0.3993 - accuracy: 0.8592 - val_loss: 2.7081 - val_accuracy: 0.4764\n",
            "Epoch 33/40\n",
            "313/313 [==============================] - 1s 4ms/step - loss: 0.3975 - accuracy: 0.8601 - val_loss: 2.7196 - val_accuracy: 0.4888\n",
            "Epoch 34/40\n",
            "313/313 [==============================] - 1s 5ms/step - loss: 0.3781 - accuracy: 0.8671 - val_loss: 2.8458 - val_accuracy: 0.4799\n",
            "Epoch 35/40\n",
            "313/313 [==============================] - 1s 5ms/step - loss: 0.3786 - accuracy: 0.8685 - val_loss: 2.8414 - val_accuracy: 0.4804\n",
            "Epoch 36/40\n",
            "313/313 [==============================] - 1s 5ms/step - loss: 0.3551 - accuracy: 0.8757 - val_loss: 2.9239 - val_accuracy: 0.4782\n",
            "Epoch 37/40\n",
            "313/313 [==============================] - 2s 5ms/step - loss: 0.3580 - accuracy: 0.8740 - val_loss: 3.0325 - val_accuracy: 0.4788\n",
            "Epoch 38/40\n",
            "313/313 [==============================] - 2s 6ms/step - loss: 0.3451 - accuracy: 0.8786 - val_loss: 3.1020 - val_accuracy: 0.4765\n",
            "Epoch 39/40\n",
            "313/313 [==============================] - 1s 4ms/step - loss: 0.3160 - accuracy: 0.8899 - val_loss: 3.0915 - val_accuracy: 0.4828\n",
            "Epoch 40/40\n",
            "313/313 [==============================] - 1s 5ms/step - loss: 0.3081 - accuracy: 0.8938 - val_loss: 3.2148 - val_accuracy: 0.4762\n"
          ]
        }
      ]
    },
    {
      "cell_type": "markdown",
      "source": [
        "# 2.3. Exercise\n",
        "Based on the modifications above, and by any further modifications (e.g. more layers, less layers, more neurons/layer, etc.) to the model design, find a combination that is able to achieve **validation accuracy, that is higher than 53%**.\n"
      ],
      "metadata": {
        "id": "j1tGVPdD-pp3"
      }
    },
    {
      "cell_type": "code",
      "source": [
        "es = EarlyStopping(monitor='val_accuracy',patience = 5,restore_best_weights=True)"
      ],
      "metadata": {
        "id": "5dBQxJHIHrbd"
      },
      "execution_count": 33,
      "outputs": []
    },
    {
      "cell_type": "code",
      "source": [
        "# model definition with relu\n",
        "model = Sequential()\n",
        "initiliazer = LecunUniform()\n",
        "model.add(Dense(128, activation='relu', kernel_initializer=initiliazer, input_shape=(flattened_dim,)))\n",
        "model.add(Dropout(.35,input_shape=(flattened_dim,)))\n",
        "model.add(Dense(128, activation='relu', kernel_initializer=initiliazer))\n",
        "model.add(Dense(128, activation='relu', kernel_initializer=initiliazer))\n",
        "model.add(Dense(128, activation='relu', kernel_initializer=initiliazer))\n",
        "model.add(Dense(nb_classes, activation='softmax'))\n",
        "\n",
        "# loss function and optimizer\n",
        "model.compile(loss='categorical_crossentropy', optimizer='adam', metrics=['accuracy'])"
      ],
      "metadata": {
        "id": "PuxHOqLt-3Nd",
        "colab": {
          "base_uri": "https://localhost:8080/"
        },
        "outputId": "b1f7e4d1-f2df-459c-d3b6-4f4e6b272145"
      },
      "execution_count": 42,
      "outputs": [
        {
          "output_type": "stream",
          "name": "stderr",
          "text": [
            "/usr/local/lib/python3.8/dist-packages/keras/initializers/initializers_v2.py:120: UserWarning: The initializer LecunUniform is unseeded and being called multiple times, which will return identical values  each time (even if the initializer is unseeded). Please update your code to provide a seed to the initializer, or avoid using the same initalizer instance more than once.\n",
            "  warnings.warn(\n"
          ]
        }
      ]
    },
    {
      "cell_type": "code",
      "source": [
        "# training\n",
        "network_history = model.fit(X_train, Y_train, \n",
        "                            validation_data=(X_valid,Y_valid),\n",
        "                            batch_size=128,                             \n",
        "                            epochs=100, \n",
        "                            verbose=1)"
      ],
      "metadata": {
        "id": "u8tFNCNVHyt9",
        "colab": {
          "base_uri": "https://localhost:8080/"
        },
        "outputId": "3b4d20b9-dda1-4568-ed2d-0145dd12c4d7"
      },
      "execution_count": 43,
      "outputs": [
        {
          "output_type": "stream",
          "name": "stdout",
          "text": [
            "Epoch 1/100\n",
            "313/313 [==============================] - 3s 6ms/step - loss: 1.8629 - accuracy: 0.3306 - val_loss: 1.6912 - val_accuracy: 0.3991\n",
            "Epoch 2/100\n",
            "313/313 [==============================] - 2s 7ms/step - loss: 1.6983 - accuracy: 0.3957 - val_loss: 1.5941 - val_accuracy: 0.4339\n",
            "Epoch 3/100\n",
            "313/313 [==============================] - 2s 5ms/step - loss: 1.6187 - accuracy: 0.4245 - val_loss: 1.5514 - val_accuracy: 0.4455\n",
            "Epoch 4/100\n",
            "313/313 [==============================] - 2s 5ms/step - loss: 1.5726 - accuracy: 0.4408 - val_loss: 1.5181 - val_accuracy: 0.4644\n",
            "Epoch 5/100\n",
            "313/313 [==============================] - 2s 5ms/step - loss: 1.5388 - accuracy: 0.4505 - val_loss: 1.5078 - val_accuracy: 0.4710\n",
            "Epoch 6/100\n",
            "313/313 [==============================] - 2s 5ms/step - loss: 1.5038 - accuracy: 0.4653 - val_loss: 1.4690 - val_accuracy: 0.4852\n",
            "Epoch 7/100\n",
            "313/313 [==============================] - 2s 5ms/step - loss: 1.4769 - accuracy: 0.4759 - val_loss: 1.4689 - val_accuracy: 0.4865\n",
            "Epoch 8/100\n",
            "313/313 [==============================] - 2s 5ms/step - loss: 1.4515 - accuracy: 0.4823 - val_loss: 1.4550 - val_accuracy: 0.4896\n",
            "Epoch 9/100\n",
            "313/313 [==============================] - 2s 6ms/step - loss: 1.4290 - accuracy: 0.4902 - val_loss: 1.4373 - val_accuracy: 0.4922\n",
            "Epoch 10/100\n",
            "313/313 [==============================] - 2s 6ms/step - loss: 1.4136 - accuracy: 0.4965 - val_loss: 1.4255 - val_accuracy: 0.4990\n",
            "Epoch 11/100\n",
            "313/313 [==============================] - 2s 5ms/step - loss: 1.3909 - accuracy: 0.5029 - val_loss: 1.4171 - val_accuracy: 0.5048\n",
            "Epoch 12/100\n",
            "313/313 [==============================] - 2s 5ms/step - loss: 1.3697 - accuracy: 0.5095 - val_loss: 1.4023 - val_accuracy: 0.5022\n",
            "Epoch 13/100\n",
            "313/313 [==============================] - 2s 5ms/step - loss: 1.3598 - accuracy: 0.5148 - val_loss: 1.4076 - val_accuracy: 0.5026\n",
            "Epoch 14/100\n",
            "313/313 [==============================] - 1s 5ms/step - loss: 1.3428 - accuracy: 0.5199 - val_loss: 1.3951 - val_accuracy: 0.5114\n",
            "Epoch 15/100\n",
            "313/313 [==============================] - 2s 5ms/step - loss: 1.3421 - accuracy: 0.5214 - val_loss: 1.3809 - val_accuracy: 0.5142\n",
            "Epoch 16/100\n",
            "313/313 [==============================] - 2s 5ms/step - loss: 1.3191 - accuracy: 0.5282 - val_loss: 1.3771 - val_accuracy: 0.5187\n",
            "Epoch 17/100\n",
            "313/313 [==============================] - 2s 6ms/step - loss: 1.3084 - accuracy: 0.5337 - val_loss: 1.3829 - val_accuracy: 0.5060\n",
            "Epoch 18/100\n",
            "313/313 [==============================] - 2s 5ms/step - loss: 1.2985 - accuracy: 0.5365 - val_loss: 1.3914 - val_accuracy: 0.5084\n",
            "Epoch 19/100\n",
            "313/313 [==============================] - 1s 5ms/step - loss: 1.2852 - accuracy: 0.5405 - val_loss: 1.3750 - val_accuracy: 0.5157\n",
            "Epoch 20/100\n",
            "313/313 [==============================] - 1s 5ms/step - loss: 1.2766 - accuracy: 0.5423 - val_loss: 1.3736 - val_accuracy: 0.5205\n",
            "Epoch 21/100\n",
            "313/313 [==============================] - 1s 5ms/step - loss: 1.2636 - accuracy: 0.5460 - val_loss: 1.3655 - val_accuracy: 0.5205\n",
            "Epoch 22/100\n",
            "313/313 [==============================] - 1s 5ms/step - loss: 1.2582 - accuracy: 0.5503 - val_loss: 1.3699 - val_accuracy: 0.5183\n",
            "Epoch 23/100\n",
            "313/313 [==============================] - 1s 5ms/step - loss: 1.2467 - accuracy: 0.5522 - val_loss: 1.3567 - val_accuracy: 0.5179\n",
            "Epoch 24/100\n",
            "313/313 [==============================] - 1s 5ms/step - loss: 1.2441 - accuracy: 0.5559 - val_loss: 1.3649 - val_accuracy: 0.5189\n",
            "Epoch 25/100\n",
            "313/313 [==============================] - 2s 6ms/step - loss: 1.2312 - accuracy: 0.5602 - val_loss: 1.3504 - val_accuracy: 0.5271\n",
            "Epoch 26/100\n",
            "313/313 [==============================] - 2s 8ms/step - loss: 1.2225 - accuracy: 0.5645 - val_loss: 1.3499 - val_accuracy: 0.5245\n",
            "Epoch 27/100\n",
            "313/313 [==============================] - 2s 7ms/step - loss: 1.2127 - accuracy: 0.5659 - val_loss: 1.3572 - val_accuracy: 0.5262\n",
            "Epoch 28/100\n",
            "313/313 [==============================] - 2s 6ms/step - loss: 1.2046 - accuracy: 0.5671 - val_loss: 1.3661 - val_accuracy: 0.5193\n",
            "Epoch 29/100\n",
            "313/313 [==============================] - 2s 5ms/step - loss: 1.1994 - accuracy: 0.5713 - val_loss: 1.3532 - val_accuracy: 0.5288\n",
            "Epoch 30/100\n",
            "313/313 [==============================] - 2s 5ms/step - loss: 1.1882 - accuracy: 0.5750 - val_loss: 1.3675 - val_accuracy: 0.5236\n",
            "Epoch 31/100\n",
            "313/313 [==============================] - 2s 6ms/step - loss: 1.1842 - accuracy: 0.5781 - val_loss: 1.3597 - val_accuracy: 0.5214\n",
            "Epoch 32/100\n",
            "313/313 [==============================] - 2s 7ms/step - loss: 1.1772 - accuracy: 0.5802 - val_loss: 1.3641 - val_accuracy: 0.5243\n",
            "Epoch 33/100\n",
            "313/313 [==============================] - 2s 5ms/step - loss: 1.1717 - accuracy: 0.5800 - val_loss: 1.3409 - val_accuracy: 0.5312\n",
            "Epoch 34/100\n",
            "313/313 [==============================] - 2s 5ms/step - loss: 1.1678 - accuracy: 0.5805 - val_loss: 1.3684 - val_accuracy: 0.5248\n",
            "Epoch 35/100\n",
            "313/313 [==============================] - 2s 5ms/step - loss: 1.1568 - accuracy: 0.5857 - val_loss: 1.3664 - val_accuracy: 0.5267\n",
            "Epoch 36/100\n",
            "313/313 [==============================] - 2s 5ms/step - loss: 1.1502 - accuracy: 0.5874 - val_loss: 1.3557 - val_accuracy: 0.5243\n",
            "Epoch 37/100\n",
            "313/313 [==============================] - 1s 5ms/step - loss: 1.1468 - accuracy: 0.5911 - val_loss: 1.3614 - val_accuracy: 0.5272\n",
            "Epoch 38/100\n",
            "313/313 [==============================] - 1s 5ms/step - loss: 1.1420 - accuracy: 0.5914 - val_loss: 1.3802 - val_accuracy: 0.5117\n",
            "Epoch 39/100\n",
            "313/313 [==============================] - 2s 6ms/step - loss: 1.1321 - accuracy: 0.5921 - val_loss: 1.3533 - val_accuracy: 0.5275\n",
            "Epoch 40/100\n",
            "313/313 [==============================] - 2s 5ms/step - loss: 1.1338 - accuracy: 0.5943 - val_loss: 1.3532 - val_accuracy: 0.5318\n",
            "Epoch 41/100\n",
            "313/313 [==============================] - 2s 5ms/step - loss: 1.1281 - accuracy: 0.5995 - val_loss: 1.3514 - val_accuracy: 0.5308\n",
            "Epoch 42/100\n",
            "313/313 [==============================] - 2s 5ms/step - loss: 1.1176 - accuracy: 0.5982 - val_loss: 1.3478 - val_accuracy: 0.5263\n",
            "Epoch 43/100\n",
            "313/313 [==============================] - 1s 5ms/step - loss: 1.1175 - accuracy: 0.5980 - val_loss: 1.3549 - val_accuracy: 0.5284\n",
            "Epoch 44/100\n",
            "313/313 [==============================] - 2s 5ms/step - loss: 1.1068 - accuracy: 0.6019 - val_loss: 1.3683 - val_accuracy: 0.5271\n",
            "Epoch 45/100\n",
            "313/313 [==============================] - 1s 5ms/step - loss: 1.1066 - accuracy: 0.6026 - val_loss: 1.3584 - val_accuracy: 0.5276\n",
            "Epoch 46/100\n",
            "313/313 [==============================] - 2s 5ms/step - loss: 1.0931 - accuracy: 0.6079 - val_loss: 1.3427 - val_accuracy: 0.5298\n",
            "Epoch 47/100\n",
            "313/313 [==============================] - 2s 7ms/step - loss: 1.1000 - accuracy: 0.6054 - val_loss: 1.3807 - val_accuracy: 0.5268\n",
            "Epoch 48/100\n",
            "313/313 [==============================] - 2s 5ms/step - loss: 1.0915 - accuracy: 0.6101 - val_loss: 1.3704 - val_accuracy: 0.5236\n",
            "Epoch 49/100\n",
            "313/313 [==============================] - 1s 5ms/step - loss: 1.0820 - accuracy: 0.6125 - val_loss: 1.3823 - val_accuracy: 0.5197\n",
            "Epoch 50/100\n",
            "313/313 [==============================] - 2s 5ms/step - loss: 1.0810 - accuracy: 0.6112 - val_loss: 1.3667 - val_accuracy: 0.5280\n",
            "Epoch 51/100\n",
            "313/313 [==============================] - 2s 5ms/step - loss: 1.0771 - accuracy: 0.6138 - val_loss: 1.3670 - val_accuracy: 0.5312\n",
            "Epoch 52/100\n",
            "313/313 [==============================] - 1s 5ms/step - loss: 1.0660 - accuracy: 0.6176 - val_loss: 1.3726 - val_accuracy: 0.5290\n",
            "Epoch 53/100\n",
            "313/313 [==============================] - 2s 5ms/step - loss: 1.0684 - accuracy: 0.6180 - val_loss: 1.3730 - val_accuracy: 0.5255\n",
            "Epoch 54/100\n",
            "313/313 [==============================] - 2s 6ms/step - loss: 1.0648 - accuracy: 0.6183 - val_loss: 1.3802 - val_accuracy: 0.5249\n",
            "Epoch 55/100\n",
            "313/313 [==============================] - 2s 6ms/step - loss: 1.0557 - accuracy: 0.6202 - val_loss: 1.3881 - val_accuracy: 0.5212\n",
            "Epoch 56/100\n",
            "313/313 [==============================] - 2s 5ms/step - loss: 1.0531 - accuracy: 0.6242 - val_loss: 1.3756 - val_accuracy: 0.5272\n",
            "Epoch 57/100\n",
            "313/313 [==============================] - 2s 5ms/step - loss: 1.0541 - accuracy: 0.6208 - val_loss: 1.3837 - val_accuracy: 0.5222\n",
            "Epoch 58/100\n",
            "313/313 [==============================] - 2s 5ms/step - loss: 1.0478 - accuracy: 0.6251 - val_loss: 1.3672 - val_accuracy: 0.5283\n",
            "Epoch 59/100\n",
            "313/313 [==============================] - 2s 5ms/step - loss: 1.0466 - accuracy: 0.6244 - val_loss: 1.3731 - val_accuracy: 0.5331\n",
            "Epoch 60/100\n",
            "313/313 [==============================] - 2s 5ms/step - loss: 1.0395 - accuracy: 0.6294 - val_loss: 1.3753 - val_accuracy: 0.5251\n",
            "Epoch 61/100\n",
            "313/313 [==============================] - 2s 5ms/step - loss: 1.0328 - accuracy: 0.6333 - val_loss: 1.3766 - val_accuracy: 0.5265\n",
            "Epoch 62/100\n",
            "313/313 [==============================] - 2s 7ms/step - loss: 1.0280 - accuracy: 0.6348 - val_loss: 1.3789 - val_accuracy: 0.5252\n",
            "Epoch 63/100\n",
            "313/313 [==============================] - 2s 5ms/step - loss: 1.0247 - accuracy: 0.6332 - val_loss: 1.3900 - val_accuracy: 0.5279\n",
            "Epoch 64/100\n",
            "313/313 [==============================] - 2s 5ms/step - loss: 1.0277 - accuracy: 0.6347 - val_loss: 1.3665 - val_accuracy: 0.5350\n",
            "Epoch 65/100\n",
            "313/313 [==============================] - 2s 5ms/step - loss: 1.0241 - accuracy: 0.6344 - val_loss: 1.3753 - val_accuracy: 0.5310\n",
            "Epoch 66/100\n",
            "313/313 [==============================] - 2s 5ms/step - loss: 1.0120 - accuracy: 0.6392 - val_loss: 1.3831 - val_accuracy: 0.5275\n",
            "Epoch 67/100\n",
            "313/313 [==============================] - 2s 5ms/step - loss: 1.0205 - accuracy: 0.6349 - val_loss: 1.3783 - val_accuracy: 0.5327\n",
            "Epoch 68/100\n",
            "313/313 [==============================] - 2s 5ms/step - loss: 1.0166 - accuracy: 0.6373 - val_loss: 1.3916 - val_accuracy: 0.5270\n",
            "Epoch 69/100\n",
            "313/313 [==============================] - 2s 6ms/step - loss: 1.0045 - accuracy: 0.6421 - val_loss: 1.3759 - val_accuracy: 0.5284\n",
            "Epoch 70/100\n",
            "313/313 [==============================] - 2s 6ms/step - loss: 1.0072 - accuracy: 0.6395 - val_loss: 1.3757 - val_accuracy: 0.5304\n",
            "Epoch 71/100\n",
            "313/313 [==============================] - 2s 5ms/step - loss: 1.0023 - accuracy: 0.6433 - val_loss: 1.3835 - val_accuracy: 0.5235\n",
            "Epoch 72/100\n",
            "313/313 [==============================] - 2s 5ms/step - loss: 1.0013 - accuracy: 0.6428 - val_loss: 1.3849 - val_accuracy: 0.5224\n",
            "Epoch 73/100\n",
            "313/313 [==============================] - 2s 5ms/step - loss: 0.9944 - accuracy: 0.6442 - val_loss: 1.3907 - val_accuracy: 0.5188\n",
            "Epoch 74/100\n",
            "313/313 [==============================] - 1s 5ms/step - loss: 0.9927 - accuracy: 0.6446 - val_loss: 1.3875 - val_accuracy: 0.5304\n",
            "Epoch 75/100\n",
            "313/313 [==============================] - 1s 5ms/step - loss: 0.9917 - accuracy: 0.6464 - val_loss: 1.3850 - val_accuracy: 0.5293\n",
            "Epoch 76/100\n",
            "313/313 [==============================] - 2s 5ms/step - loss: 0.9852 - accuracy: 0.6454 - val_loss: 1.3832 - val_accuracy: 0.5317\n",
            "Epoch 77/100\n",
            "313/313 [==============================] - 2s 7ms/step - loss: 0.9826 - accuracy: 0.6497 - val_loss: 1.3988 - val_accuracy: 0.5309\n",
            "Epoch 78/100\n",
            "313/313 [==============================] - 2s 5ms/step - loss: 0.9781 - accuracy: 0.6472 - val_loss: 1.3920 - val_accuracy: 0.5303\n",
            "Epoch 79/100\n",
            "313/313 [==============================] - 1s 5ms/step - loss: 0.9782 - accuracy: 0.6502 - val_loss: 1.3873 - val_accuracy: 0.5305\n",
            "Epoch 80/100\n",
            "313/313 [==============================] - 2s 5ms/step - loss: 0.9721 - accuracy: 0.6526 - val_loss: 1.4003 - val_accuracy: 0.5287\n",
            "Epoch 81/100\n",
            "313/313 [==============================] - 2s 5ms/step - loss: 0.9717 - accuracy: 0.6526 - val_loss: 1.3963 - val_accuracy: 0.5260\n",
            "Epoch 82/100\n",
            "313/313 [==============================] - 2s 5ms/step - loss: 0.9681 - accuracy: 0.6523 - val_loss: 1.4007 - val_accuracy: 0.5258\n",
            "Epoch 83/100\n",
            "313/313 [==============================] - 1s 5ms/step - loss: 0.9676 - accuracy: 0.6553 - val_loss: 1.4083 - val_accuracy: 0.5245\n",
            "Epoch 84/100\n",
            "313/313 [==============================] - 2s 6ms/step - loss: 0.9541 - accuracy: 0.6606 - val_loss: 1.4184 - val_accuracy: 0.5257\n",
            "Epoch 85/100\n",
            "313/313 [==============================] - 2s 6ms/step - loss: 0.9592 - accuracy: 0.6574 - val_loss: 1.4090 - val_accuracy: 0.5307\n",
            "Epoch 86/100\n",
            "313/313 [==============================] - 1s 5ms/step - loss: 0.9619 - accuracy: 0.6593 - val_loss: 1.3984 - val_accuracy: 0.5330\n",
            "Epoch 87/100\n",
            "313/313 [==============================] - 1s 5ms/step - loss: 0.9542 - accuracy: 0.6610 - val_loss: 1.3977 - val_accuracy: 0.5277\n",
            "Epoch 88/100\n",
            "313/313 [==============================] - 2s 5ms/step - loss: 0.9515 - accuracy: 0.6598 - val_loss: 1.4116 - val_accuracy: 0.5204\n",
            "Epoch 89/100\n",
            "313/313 [==============================] - 2s 5ms/step - loss: 0.9517 - accuracy: 0.6609 - val_loss: 1.4163 - val_accuracy: 0.5191\n",
            "Epoch 90/100\n",
            "313/313 [==============================] - 2s 5ms/step - loss: 0.9490 - accuracy: 0.6646 - val_loss: 1.4110 - val_accuracy: 0.5265\n",
            "Epoch 91/100\n",
            "313/313 [==============================] - 2s 5ms/step - loss: 0.9481 - accuracy: 0.6617 - val_loss: 1.4077 - val_accuracy: 0.5302\n",
            "Epoch 92/100\n",
            "313/313 [==============================] - 2s 7ms/step - loss: 0.9359 - accuracy: 0.6682 - val_loss: 1.4124 - val_accuracy: 0.5259\n",
            "Epoch 93/100\n",
            "313/313 [==============================] - 2s 5ms/step - loss: 0.9383 - accuracy: 0.6647 - val_loss: 1.4102 - val_accuracy: 0.5275\n",
            "Epoch 94/100\n",
            "313/313 [==============================] - 2s 5ms/step - loss: 0.9414 - accuracy: 0.6649 - val_loss: 1.4052 - val_accuracy: 0.5316\n",
            "Epoch 95/100\n",
            "313/313 [==============================] - 2s 5ms/step - loss: 0.9397 - accuracy: 0.6638 - val_loss: 1.4107 - val_accuracy: 0.5331\n",
            "Epoch 96/100\n",
            "313/313 [==============================] - 2s 5ms/step - loss: 0.9313 - accuracy: 0.6677 - val_loss: 1.4252 - val_accuracy: 0.5282\n",
            "Epoch 97/100\n",
            "313/313 [==============================] - 2s 5ms/step - loss: 0.9269 - accuracy: 0.6714 - val_loss: 1.4291 - val_accuracy: 0.5332\n",
            "Epoch 98/100\n",
            "313/313 [==============================] - 1s 5ms/step - loss: 0.9344 - accuracy: 0.6645 - val_loss: 1.4154 - val_accuracy: 0.5305\n",
            "Epoch 99/100\n",
            "313/313 [==============================] - 2s 6ms/step - loss: 0.9156 - accuracy: 0.6709 - val_loss: 1.4234 - val_accuracy: 0.5279\n",
            "Epoch 100/100\n",
            "313/313 [==============================] - 2s 6ms/step - loss: 0.9271 - accuracy: 0.6687 - val_loss: 1.4126 - val_accuracy: 0.5297\n"
          ]
        }
      ]
    },
    {
      "cell_type": "markdown",
      "source": [
        "# 3. Evaluation on test data and inference\n",
        "At this point, we will perform a basic evaluation and inference. With the model.evaluate function, the same metrics are calculated, that were used during training:"
      ],
      "metadata": {
        "id": "2FtKp-a2-A9m"
      }
    },
    {
      "cell_type": "code",
      "source": [
        "print(model.evaluate(X_test, Y_test))"
      ],
      "metadata": {
        "id": "I3_9wgDREUna",
        "colab": {
          "base_uri": "https://localhost:8080/"
        },
        "outputId": "62cc9259-6944-4e1f-ab62-766b5b9b74d0"
      },
      "execution_count": 46,
      "outputs": [
        {
          "output_type": "stream",
          "name": "stdout",
          "text": [
            "313/313 [==============================] - 1s 3ms/step - loss: 1.4130 - accuracy: 0.5406\n",
            "[1.4130007028579712, 0.5406000018119812]\n"
          ]
        }
      ]
    },
    {
      "cell_type": "markdown",
      "source": [
        "we would like to see similar values, as in the validation set. If those are close to each other, then the generalization ability of the model is good (in case of an independent test-set)."
      ],
      "metadata": {
        "id": "ECHguBFtGL7f"
      }
    },
    {
      "cell_type": "markdown",
      "source": [
        "## 3.1. Exercise\n",
        "Predict the class of the first 10 elements in the test set, and compare the predicted values with the actual, target values in the test set. Hints:\n",
        "* you can use [model.predict](https://www.activestate.com/resources/quick-reads/how-to-use-a-model-to-do-predictions-with-keras/) for prediction\n",
        "* from the output you can select the largest value with the [argmax() function of Numpy](https://stackoverflow.com/questions/62358642/convert-one-hot-encoding-back-to-number-label). As there are multiple values, you have to call it with axis=1 parameter.\n",
        "* it is enought to compare the predictions and the targets by printing the values out and inspecting them."
      ],
      "metadata": {
        "id": "0Io4zYJeHjz6"
      }
    },
    {
      "cell_type": "code",
      "source": [
        "preds = model.predict(X_test[:10])\n",
        "preds_dense = np.argmax(preds,axis=1)"
      ],
      "metadata": {
        "id": "XEEyU7exILqF",
        "colab": {
          "base_uri": "https://localhost:8080/"
        },
        "outputId": "c5f17e20-f428-42b5-d333-827e1a03992d"
      },
      "execution_count": 49,
      "outputs": [
        {
          "output_type": "stream",
          "name": "stdout",
          "text": [
            "1/1 [==============================] - 0s 26ms/step\n"
          ]
        }
      ]
    },
    {
      "cell_type": "markdown",
      "source": [
        "Before comparision, you have to convert back the one-hot encoded target values the same way, as you converted the output of the neural network to class values with argmax() function."
      ],
      "metadata": {
        "id": "seZTEFI-I5cZ"
      }
    },
    {
      "cell_type": "code",
      "source": [
        "print(\"Target labels:\", np.argmax(Y_test[:10],axis=1))\n",
        "print(\"Predicted labels:\", preds_dense)"
      ],
      "metadata": {
        "id": "PHLvoMuIIkJ6",
        "colab": {
          "base_uri": "https://localhost:8080/"
        },
        "outputId": "fecaefad-942d-4adb-9667-3185db7415bc"
      },
      "execution_count": 50,
      "outputs": [
        {
          "output_type": "stream",
          "name": "stdout",
          "text": [
            "Target labels: [3 8 8 0 6 6 1 6 3 1]\n",
            "Predicted labels: [4 8 0 8 4 6 3 6 5 1]\n"
          ]
        }
      ]
    }
  ]
}